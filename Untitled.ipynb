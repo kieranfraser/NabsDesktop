{
 "cells": [
  {
   "cell_type": "code",
   "execution_count": 1,
   "metadata": {
    "collapsed": true
   },
   "outputs": [],
   "source": [
    "import pandas as pd"
   ]
  },
  {
   "cell_type": "code",
   "execution_count": 48,
   "metadata": {},
   "outputs": [],
   "source": [
    "data = pd.read_json('260417_2.json')"
   ]
  },
  {
   "cell_type": "code",
   "execution_count": 49,
   "metadata": {},
   "outputs": [
    {
     "data": {
      "text/html": [
       "<div>\n",
       "<table border=\"1\" class=\"dataframe\">\n",
       "  <thead>\n",
       "    <tr style=\"text-align: right;\">\n",
       "      <th></th>\n",
       "      <th>percentageHome</th>\n",
       "      <th>percentageSocial</th>\n",
       "      <th>percentageWork</th>\n",
       "    </tr>\n",
       "  </thead>\n",
       "  <tbody>\n",
       "    <tr>\n",
       "      <th>count</th>\n",
       "      <td>45.0</td>\n",
       "      <td>45.0</td>\n",
       "      <td>45.0</td>\n",
       "    </tr>\n",
       "    <tr>\n",
       "      <th>mean</th>\n",
       "      <td>0.0</td>\n",
       "      <td>0.0</td>\n",
       "      <td>0.0</td>\n",
       "    </tr>\n",
       "    <tr>\n",
       "      <th>std</th>\n",
       "      <td>0.0</td>\n",
       "      <td>0.0</td>\n",
       "      <td>0.0</td>\n",
       "    </tr>\n",
       "    <tr>\n",
       "      <th>min</th>\n",
       "      <td>0.0</td>\n",
       "      <td>0.0</td>\n",
       "      <td>0.0</td>\n",
       "    </tr>\n",
       "    <tr>\n",
       "      <th>25%</th>\n",
       "      <td>0.0</td>\n",
       "      <td>0.0</td>\n",
       "      <td>0.0</td>\n",
       "    </tr>\n",
       "    <tr>\n",
       "      <th>50%</th>\n",
       "      <td>0.0</td>\n",
       "      <td>0.0</td>\n",
       "      <td>0.0</td>\n",
       "    </tr>\n",
       "    <tr>\n",
       "      <th>75%</th>\n",
       "      <td>0.0</td>\n",
       "      <td>0.0</td>\n",
       "      <td>0.0</td>\n",
       "    </tr>\n",
       "    <tr>\n",
       "      <th>max</th>\n",
       "      <td>0.0</td>\n",
       "      <td>0.0</td>\n",
       "      <td>0.0</td>\n",
       "    </tr>\n",
       "  </tbody>\n",
       "</table>\n",
       "</div>"
      ],
      "text/plain": [
       "       percentageHome  percentageSocial  percentageWork\n",
       "count            45.0              45.0            45.0\n",
       "mean              0.0               0.0             0.0\n",
       "std               0.0               0.0             0.0\n",
       "min               0.0               0.0             0.0\n",
       "25%               0.0               0.0             0.0\n",
       "50%               0.0               0.0             0.0\n",
       "75%               0.0               0.0             0.0\n",
       "max               0.0               0.0             0.0"
      ]
     },
     "execution_count": 49,
     "metadata": {},
     "output_type": "execute_result"
    }
   ],
   "source": [
    "data.describe()"
   ]
  },
  {
   "cell_type": "code",
   "execution_count": 55,
   "metadata": {},
   "outputs": [
    {
     "data": {
      "text/html": [
       "<div>\n",
       "<table border=\"1\" class=\"dataframe\">\n",
       "  <thead>\n",
       "    <tr style=\"text-align: right;\">\n",
       "      <th></th>\n",
       "      <th>id</th>\n",
       "      <th>notifications</th>\n",
       "    </tr>\n",
       "  </thead>\n",
       "  <tbody>\n",
       "    <tr>\n",
       "      <th>0</th>\n",
       "      <td>sp10-01-01</td>\n",
       "      <td>[{u'body': None, u'sender': u'family', u'dateR...</td>\n",
       "    </tr>\n",
       "    <tr>\n",
       "      <th>1</th>\n",
       "      <td>sp10-01-02</td>\n",
       "      <td>[{u'body': None, u'sender': u'family', u'dateR...</td>\n",
       "    </tr>\n",
       "    <tr>\n",
       "      <th>2</th>\n",
       "      <td>sp10-01-05</td>\n",
       "      <td>[{u'body': None, u'sender': u'family', u'dateR...</td>\n",
       "    </tr>\n",
       "    <tr>\n",
       "      <th>3</th>\n",
       "      <td>sp10-01-06</td>\n",
       "      <td>[{u'body': None, u'sender': u'family', u'dateR...</td>\n",
       "    </tr>\n",
       "    <tr>\n",
       "      <th>4</th>\n",
       "      <td>sp10-01-07</td>\n",
       "      <td>[{u'body': None, u'sender': u'family', u'dateR...</td>\n",
       "    </tr>\n",
       "  </tbody>\n",
       "</table>\n",
       "</div>"
      ],
      "text/plain": [
       "           id                                      notifications\n",
       "0  sp10-01-01  [{u'body': None, u'sender': u'family', u'dateR...\n",
       "1  sp10-01-02  [{u'body': None, u'sender': u'family', u'dateR...\n",
       "2  sp10-01-05  [{u'body': None, u'sender': u'family', u'dateR...\n",
       "3  sp10-01-06  [{u'body': None, u'sender': u'family', u'dateR...\n",
       "4  sp10-01-07  [{u'body': None, u'sender': u'family', u'dateR..."
      ]
     },
     "execution_count": 55,
     "metadata": {},
     "output_type": "execute_result"
    }
   ],
   "source": [
    "data[['id','notifications']].head()"
   ]
  },
  {
   "cell_type": "code",
   "execution_count": 56,
   "metadata": {},
   "outputs": [
    {
     "data": {
      "text/plain": [
       "{u'dayGT': u'Th',\n",
       " u'endDate': u'2010-03-14',\n",
       " u'eventType': 0,\n",
       " u'id': None,\n",
       " u'inferredDescription': u'interest',\n",
       " u'inferredEndDate': {u'chronology': {u'calendarType': u'iso8601',\n",
       "   u'id': u'ISO'},\n",
       "  u'dayOfMonth': 1,\n",
       "  u'dayOfWeek': u'FRIDAY',\n",
       "  u'dayOfYear': 274,\n",
       "  u'hour': 17,\n",
       "  u'minute': 41,\n",
       "  u'month': u'OCTOBER',\n",
       "  u'monthValue': 10,\n",
       "  u'nano': 0,\n",
       "  u'second': 0,\n",
       "  u'year': 2010},\n",
       " u'inferredStartDate': {u'chronology': {u'calendarType': u'iso8601',\n",
       "   u'id': u'ISO'},\n",
       "  u'dayOfMonth': 1,\n",
       "  u'dayOfWeek': u'FRIDAY',\n",
       "  u'dayOfYear': 274,\n",
       "  u'hour': 14,\n",
       "  u'minute': 41,\n",
       "  u'month': u'OCTOBER',\n",
       "  u'monthValue': 10,\n",
       "  u'nano': 0,\n",
       "  u'second': 0,\n",
       "  u'year': 2010},\n",
       " u'nameGT': u'meet my doctor',\n",
       " u'startDate': u'2010-03-08',\n",
       " u'withGT': u' Alone'}"
      ]
     },
     "execution_count": 56,
     "metadata": {},
     "output_type": "execute_result"
    }
   ],
   "source": [
    "data['events'][0][0]"
   ]
  },
  {
   "cell_type": "code",
   "execution_count": 52,
   "metadata": {},
   "outputs": [
    {
     "data": {
      "text/plain": [
       "0"
      ]
     },
     "execution_count": 52,
     "metadata": {},
     "output_type": "execute_result"
    }
   ],
   "source": [
    "len(data['notifications'][8])"
   ]
  },
  {
   "cell_type": "code",
   "execution_count": 57,
   "metadata": {},
   "outputs": [
    {
     "data": {
      "text/plain": [
       "{u'app': {u'category': u'blank', u'id': None, u'name': u'blank', u'rank': 0},\n",
       " u'appRank': 0,\n",
       " u'body': None,\n",
       " u'bodyRank': 0,\n",
       " u'date': u'01/10/10 14:41:00',\n",
       " u'dateRank': 0,\n",
       " u'dbId': None,\n",
       " u'id': 1,\n",
       " u'sender': u'family',\n",
       " u'senderRank': 8,\n",
       " u'subject': {u'dataset': None,\n",
       "  u'ground_truth': None,\n",
       "  u'id': None,\n",
       "  u'subject': u'family'},\n",
       " u'subjectRank': 0}"
      ]
     },
     "execution_count": 57,
     "metadata": {},
     "output_type": "execute_result"
    }
   ],
   "source": [
    "data['notifications'][0][0]"
   ]
  }
 ],
 "metadata": {
  "kernelspec": {
   "display_name": "Python [Root]",
   "language": "python",
   "name": "Python [Root]"
  },
  "language_info": {
   "codemirror_mode": {
    "name": "ipython",
    "version": 2
   },
   "file_extension": ".py",
   "mimetype": "text/x-python",
   "name": "python",
   "nbconvert_exporter": "python",
   "pygments_lexer": "ipython2",
   "version": "2.7.12"
  }
 },
 "nbformat": 4,
 "nbformat_minor": 1
}
